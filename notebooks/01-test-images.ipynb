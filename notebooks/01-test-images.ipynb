{
 "cells": [
  {
   "cell_type": "markdown",
   "metadata": {},
   "source": [
    "# Creating Test Images"
   ]
  },
  {
   "cell_type": "code",
   "execution_count": 1,
   "metadata": {},
   "outputs": [],
   "source": [
    "# https://pillow.readthedocs.io/en/latest/handbook/concepts.html\n",
    "from PIL import Image, ImageDraw\n",
    "from matplotlib import pyplot as plt\n",
    "\n",
    "import IPython\n",
    "import numpy as np"
   ]
  },
  {
   "cell_type": "code",
   "execution_count": 2,
   "metadata": {},
   "outputs": [],
   "source": [
    "width = 256\n",
    "height = 256"
   ]
  },
  {
   "cell_type": "code",
   "execution_count": 3,
   "metadata": {},
   "outputs": [],
   "source": [
    "def save_and_display(img, img_name):\n",
    "    img_path = '../test-images/' + img_name\n",
    "    img.save(img_path)\n",
    "    return IPython.display.Image(filename=img_path)"
   ]
  },
  {
   "cell_type": "code",
   "execution_count": 4,
   "metadata": {},
   "outputs": [
    {
     "data": {
      "image/png": "[encoded data removed]",
      "text/plain": [
       "<IPython.core.display.Image object>"
      ]
     },
     "execution_count": 4,
     "metadata": {},
     "output_type": "execute_result"
    }
   ],
   "source": [
    "# Modes, https://pillow.readthedocs.io/en/latest/handbook/concepts.html#concept-modes\n",
    "img = Image.new(mode='L', size=(width, height), color=186)\n",
    "save_and_display(img, 'img-1-intensity.png')"
   ]
  },
  {
   "cell_type": "code",
   "execution_count": 5,
   "metadata": {},
   "outputs": [
    {
     "data": {
      "image/png": "[encoded data removed]",
      "text/plain": [
       "<IPython.core.display.Image object>"
      ]
     },
     "execution_count": 5,
     "metadata": {},
     "output_type": "execute_result"
    }
   ],
   "source": [
    "img = Image.new(mode='L', size=(width, height), color=186)\n",
    "\n",
    "d = ImageDraw.Draw(img)\n",
    "d.ellipse([(50, 20), (150, 200)], fill=128, outline=None)\n",
    "star = [\n",
    "    (125,  200),\n",
    "    (150,  100),\n",
    "    (175,  200),\n",
    "    (100,  130),\n",
    "    (200,  130)\n",
    "]\n",
    "d.polygon(star, fill=200, outline=None)\n",
    "\n",
    "star = [\n",
    "    (10,  20),\n",
    "    (34,  77),\n",
    "    (12,  34),\n",
    "    (76,  45),\n",
    "    (250,  34),\n",
    "    (255,  200),\n",
    "]\n",
    "d.polygon(star, fill=None, outline=255)\n",
    "\n",
    "save_and_display(img, 'img-4-intensities.png')"
   ]
  },
  {
   "cell_type": "code",
   "execution_count": 6,
   "metadata": {},
   "outputs": [
    {
     "data": {
      "image/png": "[encoded data removed]",
      "text/plain": [
       "<IPython.core.display.Image object>"
      ]
     },
     "execution_count": 6,
     "metadata": {},
     "output_type": "execute_result"
    }
   ],
   "source": [
    "img = Image.new(mode='L', size=(width, height), color=255)\n",
    "\n",
    "d = ImageDraw.Draw(img)\n",
    "\n",
    "intensity_values = np.arange(width, dtype=np.uint8)\n",
    "np.random.shuffle(intensity_values)\n",
    "intensity_values\n",
    "\n",
    "for i in range(0, len(intensity_values)):\n",
    "    points = [(x, i) for x in range(0, width)]\n",
    "    colour = int(intensity_values[i])\n",
    "    d.point(xy=points, fill=colour)\n",
    "\n",
    "save_and_display(img, 'img-256-intensities-horisontal.png')"
   ]
  },
  {
   "cell_type": "code",
   "execution_count": 7,
   "metadata": {},
   "outputs": [
    {
     "data": {
      "image/png": "[encoded data removed]",
      "text/plain": [
       "<IPython.core.display.Image object>"
      ]
     },
     "execution_count": 7,
     "metadata": {},
     "output_type": "execute_result"
    }
   ],
   "source": [
    "img = Image.new(mode='L', size=(width, height), color=255)\n",
    "\n",
    "d = ImageDraw.Draw(img)\n",
    "\n",
    "intensity_values = np.arange(width, dtype=np.uint8)\n",
    "np.random.shuffle(intensity_values)\n",
    "intensity_values\n",
    "\n",
    "for i in range(0, len(intensity_values)):\n",
    "    points = [(i, y) for y in range(0, width)]\n",
    "    #print(points)\n",
    "    colour = int(intensity_values[i])\n",
    "    d.point(xy=points, fill=colour)\n",
    "\n",
    "save_and_display(img, 'img-256-intensities-vertical.png')"
   ]
  }
 ],
 "metadata": {
  "kernelspec": {
   "display_name": "Python 3",
   "language": "python",
   "name": "python3"
  },
  "language_info": {
   "codemirror_mode": {
    "name": "ipython",
    "version": 3
   },
   "file_extension": ".py",
   "mimetype": "text/x-python",
   "name": "python",
   "nbconvert_exporter": "python",
   "pygments_lexer": "ipython3",
   "version": "3.6.4"
  }
 },
 "nbformat": 4,
 "nbformat_minor": 2
}
